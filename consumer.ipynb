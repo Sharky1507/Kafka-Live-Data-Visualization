{
 "cells": [
  {
   "cell_type": "code",
   "execution_count": null,
   "metadata": {},
   "outputs": [],
   "source": [
    "from kafka import KafkaConsumer\n",
    "import psutil\n",
    "import matplotlib.pyplot as plt\n",
    "from matplotlib.animation import FuncAnimation\n",
    "topic_name = 'test-topic'\n",
    "consumer = KafkaConsumer(topic_name)\n",
    "l  = []\n",
    "frame_size = 200\n",
    "%matplotlib notebook\n",
    "def animate(i):\n",
    "    \n",
    "    for message in consumer:\n",
    "        value = int.from_bytes(message.value,'big')\n",
    "        l.append(value)\n",
    "        break  \n",
    "    if (len(l) < frame_size):\n",
    "        plt.cla()\n",
    "        plt.plot(l,'r',label = \"Real Time Processor\")\n",
    "    else:\n",
    "        plt.cla()\n",
    "        plt.plot(l[-frame_size:],'r',label = \"Real Time Processor\")\n",
    "        \n",
    "        \n",
    "    plt.ylim(0,100)    \n",
    "    plt.xlabel('Time(s)')\n",
    "    plt.ylabel('CPU(%)')\n",
    "    plt.legend()\n",
    "    plt.tight_layout()  \n",
    "ani = FuncAnimation(plt.gcf(),animate,interval = 1000)"
   ]
  }
 ],
 "metadata": {
  "language_info": {
   "name": "python"
  }
 },
 "nbformat": 4,
 "nbformat_minor": 2
}
